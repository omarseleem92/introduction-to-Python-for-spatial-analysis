{
 "cells": [
  {
   "cell_type": "code",
   "execution_count": null,
   "id": "00073393",
   "metadata": {},
   "outputs": [],
   "source": [
    "import rasterio\n",
    "from rasterio.merge import merge\n",
    "from rasterio.plot import show\n",
    "import glob\n",
    "import os"
   ]
  },
  {
   "cell_type": "code",
   "execution_count": null,
   "id": "7490b273",
   "metadata": {},
   "outputs": [],
   "source": [
    "import os\n",
    "os.getcwd()\n"
   ]
  },
  {
   "cell_type": "code",
   "execution_count": null,
   "id": "343a9923",
   "metadata": {},
   "outputs": [],
   "source": [
    "# File and folder paths\n",
    "dirpath = r\"D:\\user\\seleem\\NRW\\Muenster\\rasters\"\n",
    "\n",
    "out_fp = r\"D:\\user\\seleem\\NRW\\Muenster\\Combined_raster\\Muenster_DEM.tif\"\n",
    "\n",
    "# Make a search criteria to select the DEM files\n",
    "search_criteria = \"*.tif\"\n",
    "\n",
    "q = os.path.join(dirpath, search_criteria)\n",
    "\n",
    "print(q)"
   ]
  },
  {
   "cell_type": "code",
   "execution_count": null,
   "id": "e0402f0b",
   "metadata": {},
   "outputs": [],
   "source": [
    "# List all dem files with glob() function\n",
    "dem_fps = glob.glob(q)\n",
    "dem_fps"
   ]
  },
  {
   "cell_type": "code",
   "execution_count": null,
   "id": "972a7abd",
   "metadata": {},
   "outputs": [],
   "source": [
    "# Let’s first create an empty list for the datafiles that will be part of the mosaic.\n",
    "src_files_to_mosaic = []"
   ]
  },
  {
   "cell_type": "code",
   "execution_count": null,
   "id": "a2bd725b",
   "metadata": {},
   "outputs": [],
   "source": [
    "# Now we open all those files in read mode with raterio and add those files into a our source file list.\n"
   ]
  },
  {
   "cell_type": "code",
   "execution_count": null,
   "id": "0b533af1",
   "metadata": {},
   "outputs": [],
   "source": [
    "count=0\n",
    "for fp in dem_fps:\n",
    "        src = rasterio.open(fp)\n",
    "        src_files_to_mosaic.append(src)\n",
    "        print(count)\n",
    "        count +=1\n",
    "src_files_to_mosaic"
   ]
  },
  {
   "cell_type": "code",
   "execution_count": null,
   "id": "a004664e",
   "metadata": {},
   "outputs": [],
   "source": [
    "#Now it is really easy to merge those together and create a mosaic with rasterio’s merge function.\n",
    "# Merge function returns a single mosaic array and the transformation info\n",
    "mosaic, out_trans = merge(src_files_to_mosaic)"
   ]
  },
  {
   "cell_type": "code",
   "execution_count": null,
   "id": "b36fe084",
   "metadata": {},
   "outputs": [],
   "source": [
    "#Let’s check that it looks okey.\n",
    "show(mosaic, cmap='terrain')"
   ]
  },
  {
   "cell_type": "code",
   "execution_count": null,
   "id": "50effab4",
   "metadata": {},
   "outputs": [],
   "source": [
    "# save it\n",
    "#Let’s first update the metadata with our new dimensions, transform and CRS\n",
    "# Copy the metadata\n",
    "out_meta = src.meta.copy()\n",
    "# Update the metadata\n",
    "out_meta.update({\"driver\": \"GTiff\",\n",
    "                \"height\": mosaic.shape[1],\n",
    "                 \"width\": mosaic.shape[2],\n",
    "                 \"transform\": out_trans,\n",
    "                  \"crs\": \"EPSG:25832\"\n",
    "                  }\n",
    "               )\n"
   ]
  },
  {
   "cell_type": "code",
   "execution_count": null,
   "id": "a89d13ea",
   "metadata": {},
   "outputs": [],
   "source": [
    "# Finally we can write our mosaic to our computer\n",
    "with rasterio.open(out_fp, \"w\", **out_meta) as dest:\n",
    "        dest.write(mosaic)"
   ]
  },
  {
   "cell_type": "code",
   "execution_count": null,
   "id": "adcdac59",
   "metadata": {},
   "outputs": [],
   "source": [
    "demn=gdal.Translate(r'D:\\user\\seleem\\NRW\\dgm1_kacheln\\rasters\\DGM_dgm1_32_320_5748_1_nw.tif',r'D:\\user\\seleem\\NRW\\dgm1_kacheln\\text\\DGM_dgm1_32_320_5748_1_nw.txt',outputSRS=\"EPSG:25832\")\n",
    "demn= None"
   ]
  },
  {
   "cell_type": "code",
   "execution_count": null,
   "id": "c75d43c7",
   "metadata": {},
   "outputs": [],
   "source": [
    "for file in os.listdir(r'D:\\user\\seleem\\NRW\\Muenster\\text'):\n",
    "    print(file[:-4])\n",
    "    #print(os.path.join(r'D:\\user\\seleem\\NRW\\dgm1_kacheln\\text', file))\n",
    "    print(os.path.join(r'D:\\user\\seleem\\NRW\\Muenster\\text', file[:-4]+'.tif'))\n",
    "    demn=gdal.Translate(os.path.join(r'D:\\user\\seleem\\NRW\\Muenster\\rasters', file[:-4]+'.tif'),\n",
    "                        os.path.join(r'D:\\user\\seleem\\NRW\\Muenster\\text', file)\n",
    "                        ,outputSRS=\"EPSG:25832\")\n",
    "    "
   ]
  },
  {
   "cell_type": "code",
   "execution_count": null,
   "id": "dd0181bf",
   "metadata": {},
   "outputs": [],
   "source": []
  }
 ],
 "metadata": {
  "kernelspec": {
   "display_name": "Python 3 (ipykernel)",
   "language": "python",
   "name": "python3"
  },
  "language_info": {
   "codemirror_mode": {
    "name": "ipython",
    "version": 3
   },
   "file_extension": ".py",
   "mimetype": "text/x-python",
   "name": "python",
   "nbconvert_exporter": "python",
   "pygments_lexer": "ipython3",
   "version": "3.10.2"
  }
 },
 "nbformat": 4,
 "nbformat_minor": 5
}
