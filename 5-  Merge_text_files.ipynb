{
 "cells": [
  {
   "cell_type": "code",
   "execution_count": null,
   "id": "00073393",
   "metadata": {},
   "outputs": [],
   "source": [
    "import gzip\n",
    "import shutil\n",
    "import glob\n",
    "import os"
   ]
  },
  {
   "cell_type": "code",
   "execution_count": null,
   "id": "84e55576",
   "metadata": {},
   "outputs": [],
   "source": [
    "# path of the text files \n",
    "dir_path=r\"D:\\user\\seleem\\NRW\\dgm1_kacheln\\text\""
   ]
  },
  {
   "cell_type": "code",
   "execution_count": null,
   "id": "66b8738f",
   "metadata": {},
   "outputs": [],
   "source": [
    "# check working directories\n",
    "os.getcwd( )"
   ]
  },
  {
   "cell_type": "code",
   "execution_count": null,
   "id": "6dfe74b5",
   "metadata": {},
   "outputs": [],
   "source": [
    "# Change working directory to the text files directory\n",
    "os.chdir(dir_path) \n"
   ]
  },
  {
   "cell_type": "code",
   "execution_count": null,
   "id": "d13e93ce",
   "metadata": {},
   "outputs": [],
   "source": [
    "# check again that it is correct\n",
    "os.getcwd( )"
   ]
  },
  {
   "cell_type": "code",
   "execution_count": null,
   "id": "4eba707e",
   "metadata": {},
   "outputs": [],
   "source": [
    "# check that we can access all the text files and their count\n",
    "count=0\n",
    "for file in os.listdir(dir_path):\n",
    "    print(file)\n",
    "    count+=1\n",
    "count"
   ]
  },
  {
   "cell_type": "code",
   "execution_count": null,
   "id": "0a45f350",
   "metadata": {},
   "outputs": [],
   "source": [
    "# Open the file the output file in write mode\n",
    "with open('Combined.txt', 'w') as outfile:\n",
    "  \n",
    "    # Iterate through list\n",
    "    for names in os.listdir(dir_path):\n",
    "  \n",
    "        # Open each file in read mode\n",
    "        with open(names) as infile:\n",
    "  \n",
    "            # read the data from the file and write it in the combined file\n",
    "            outfile.write(infile.read())\n",
    "  \n",
    "        # Add '\\n' to enter data of the next file\n",
    "        # from next line\n",
    "        outfile.write(\"\\n\")"
   ]
  },
  {
   "cell_type": "code",
   "execution_count": null,
   "id": "35098b33",
   "metadata": {},
   "outputs": [],
   "source": []
  }
 ],
 "metadata": {
  "kernelspec": {
   "display_name": "Python 3 (ipykernel)",
   "language": "python",
   "name": "python3"
  },
  "language_info": {
   "codemirror_mode": {
    "name": "ipython",
    "version": 3
   },
   "file_extension": ".py",
   "mimetype": "text/x-python",
   "name": "python",
   "nbconvert_exporter": "python",
   "pygments_lexer": "ipython3",
   "version": "3.10.2"
  }
 },
 "nbformat": 4,
 "nbformat_minor": 5
}
