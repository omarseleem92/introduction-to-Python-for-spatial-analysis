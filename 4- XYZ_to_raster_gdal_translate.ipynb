{
 "cells": [
  {
   "cell_type": "code",
   "execution_count": null,
   "id": "00073393",
   "metadata": {},
   "outputs": [],
   "source": [
    "from osgeo import gdal\n",
    "import pandas as pd\n",
    "import numpy as np\n",
    "import os\n",
    "import matplotlib.pyplot as plt"
   ]
  },
  {
   "cell_type": "code",
   "execution_count": null,
   "id": "7490b273",
   "metadata": {},
   "outputs": [],
   "source": [
    "# os.getcwd()\n"
   ]
  },
  {
   "cell_type": "code",
   "execution_count": null,
   "id": "c77edebb",
   "metadata": {},
   "outputs": [],
   "source": [
    "# Change working directory to the folder where the XYZ files are\n",
    "os.chdir(r'D:\\user\\seleem\\NRW\\Muenster\\text')\n"
   ]
  },
  {
   "cell_type": "code",
   "execution_count": null,
   "id": "faf5d9f7",
   "metadata": {},
   "outputs": [],
   "source": [
    "path=os.getcwd()\n"
   ]
  },
  {
   "cell_type": "code",
   "execution_count": null,
   "id": "c75d43c7",
   "metadata": {},
   "outputs": [],
   "source": [
    "# Iterate over each file in the folder and change the XYZ file to raster .tif format\n",
    "for file in os.listdir(r'D:\\user\\seleem\\NRW\\Muenster\\text'):\n",
    "    print(file[:-4])\n",
    "    #print(os.path.join(r'D:\\user\\seleem\\NRW\\dgm1_kacheln\\text', file))\n",
    "    print(os.path.join(r'D:\\user\\seleem\\NRW\\Muenster\\text', file[:-4]+'.tif'))\n",
    "    demn=gdal.Translate(os.path.join(r'D:\\user\\seleem\\NRW\\Muenster\\rasters', file[:-4]+'.tif'),\n",
    "                        os.path.join(r'D:\\user\\seleem\\NRW\\Muenster\\text', file)\n",
    "                        ,outputSRS=\"EPSG:25832\")\n",
    "    "
   ]
  },
  {
   "cell_type": "code",
   "execution_count": null,
   "id": "dd0181bf",
   "metadata": {},
   "outputs": [],
   "source": []
  }
 ],
 "metadata": {
  "kernelspec": {
   "display_name": "Python 3 (ipykernel)",
   "language": "python",
   "name": "python3"
  },
  "language_info": {
   "codemirror_mode": {
    "name": "ipython",
    "version": 3
   },
   "file_extension": ".py",
   "mimetype": "text/x-python",
   "name": "python",
   "nbconvert_exporter": "python",
   "pygments_lexer": "ipython3",
   "version": "3.10.2"
  }
 },
 "nbformat": 4,
 "nbformat_minor": 5
}
